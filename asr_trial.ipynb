{
 "cells": [
  {
   "cell_type": "code",
   "execution_count": 48,
   "metadata": {},
   "outputs": [
    {
     "name": "stdout",
     "output_type": "stream",
     "text": [
      "Requirement already satisfied: transformers in c:\\users\\tomas\\appdata\\local\\programs\\python\\python312\\lib\\site-packages (4.41.0)\n",
      "Requirement already satisfied: torch in c:\\users\\tomas\\appdata\\local\\programs\\python\\python312\\lib\\site-packages (2.3.0)\n",
      "Requirement already satisfied: torchaudio in c:\\users\\tomas\\appdata\\local\\programs\\python\\python312\\lib\\site-packages (2.3.0)\n",
      "Requirement already satisfied: soundfile in c:\\users\\tomas\\appdata\\local\\programs\\python\\python312\\lib\\site-packages (0.12.1)\n",
      "Requirement already satisfied: noisereduce in c:\\users\\tomas\\appdata\\local\\programs\\python\\python312\\lib\\site-packages (3.0.2)\n",
      "Requirement already satisfied: numpy in c:\\users\\tomas\\appdata\\local\\programs\\python\\python312\\lib\\site-packages (1.26.1)\n",
      "Requirement already satisfied: filelock in c:\\users\\tomas\\appdata\\local\\programs\\python\\python312\\lib\\site-packages (from transformers) (3.14.0)\n",
      "Requirement already satisfied: huggingface-hub<1.0,>=0.23.0 in c:\\users\\tomas\\appdata\\local\\programs\\python\\python312\\lib\\site-packages (from transformers) (0.23.0)\n",
      "Requirement already satisfied: packaging>=20.0 in c:\\users\\tomas\\appdata\\roaming\\python\\python312\\site-packages (from transformers) (23.2)\n",
      "Requirement already satisfied: pyyaml>=5.1 in c:\\users\\tomas\\appdata\\local\\programs\\python\\python312\\lib\\site-packages (from transformers) (6.0.1)\n",
      "Requirement already satisfied: regex!=2019.12.17 in c:\\users\\tomas\\appdata\\local\\programs\\python\\python312\\lib\\site-packages (from transformers) (2024.5.15)\n",
      "Requirement already satisfied: requests in c:\\users\\tomas\\appdata\\local\\programs\\python\\python312\\lib\\site-packages (from transformers) (2.31.0)\n",
      "Requirement already satisfied: tokenizers<0.20,>=0.19 in c:\\users\\tomas\\appdata\\local\\programs\\python\\python312\\lib\\site-packages (from transformers) (0.19.1)\n",
      "Requirement already satisfied: safetensors>=0.4.1 in c:\\users\\tomas\\appdata\\local\\programs\\python\\python312\\lib\\site-packages (from transformers) (0.4.3)\n",
      "Requirement already satisfied: tqdm>=4.27 in c:\\users\\tomas\\appdata\\local\\programs\\python\\python312\\lib\\site-packages (from transformers) (4.66.2)\n",
      "Requirement already satisfied: typing-extensions>=4.8.0 in c:\\users\\tomas\\appdata\\local\\programs\\python\\python312\\lib\\site-packages (from torch) (4.10.0)\n",
      "Requirement already satisfied: sympy in c:\\users\\tomas\\appdata\\local\\programs\\python\\python312\\lib\\site-packages (from torch) (1.12)\n",
      "Requirement already satisfied: networkx in c:\\users\\tomas\\appdata\\local\\programs\\python\\python312\\lib\\site-packages (from torch) (3.1)\n",
      "Requirement already satisfied: jinja2 in c:\\users\\tomas\\appdata\\local\\programs\\python\\python312\\lib\\site-packages (from torch) (3.1.3)\n",
      "Requirement already satisfied: fsspec in c:\\users\\tomas\\appdata\\local\\programs\\python\\python312\\lib\\site-packages (from torch) (2024.5.0)\n",
      "Requirement already satisfied: mkl<=2021.4.0,>=2021.1.1 in c:\\users\\tomas\\appdata\\local\\programs\\python\\python312\\lib\\site-packages (from torch) (2021.4.0)\n",
      "Requirement already satisfied: cffi>=1.0 in c:\\users\\tomas\\appdata\\local\\programs\\python\\python312\\lib\\site-packages (from soundfile) (1.16.0)\n",
      "Requirement already satisfied: scipy in c:\\users\\tomas\\appdata\\local\\programs\\python\\python312\\lib\\site-packages (from noisereduce) (1.12.0)\n",
      "Requirement already satisfied: matplotlib in c:\\users\\tomas\\appdata\\local\\programs\\python\\python312\\lib\\site-packages (from noisereduce) (3.8.0)\n",
      "Requirement already satisfied: librosa in c:\\users\\tomas\\appdata\\local\\programs\\python\\python312\\lib\\site-packages (from noisereduce) (0.10.2.post1)\n",
      "Requirement already satisfied: pycparser in c:\\users\\tomas\\appdata\\local\\programs\\python\\python312\\lib\\site-packages (from cffi>=1.0->soundfile) (2.21)\n",
      "Requirement already satisfied: intel-openmp==2021.* in c:\\users\\tomas\\appdata\\local\\programs\\python\\python312\\lib\\site-packages (from mkl<=2021.4.0,>=2021.1.1->torch) (2021.4.0)\n",
      "Requirement already satisfied: tbb==2021.* in c:\\users\\tomas\\appdata\\local\\programs\\python\\python312\\lib\\site-packages (from mkl<=2021.4.0,>=2021.1.1->torch) (2021.12.0)\n",
      "Requirement already satisfied: colorama in c:\\users\\tomas\\appdata\\roaming\\python\\python312\\site-packages (from tqdm>=4.27->transformers) (0.4.6)\n",
      "Requirement already satisfied: MarkupSafe>=2.0 in c:\\users\\tomas\\appdata\\local\\programs\\python\\python312\\lib\\site-packages (from jinja2->torch) (2.1.5)\n",
      "Requirement already satisfied: audioread>=2.1.9 in c:\\users\\tomas\\appdata\\local\\programs\\python\\python312\\lib\\site-packages (from librosa->noisereduce) (3.0.1)\n",
      "Requirement already satisfied: scikit-learn>=0.20.0 in c:\\users\\tomas\\appdata\\local\\programs\\python\\python312\\lib\\site-packages (from librosa->noisereduce) (1.4.2)\n",
      "Requirement already satisfied: joblib>=0.14 in c:\\users\\tomas\\appdata\\local\\programs\\python\\python312\\lib\\site-packages (from librosa->noisereduce) (1.4.2)\n",
      "Requirement already satisfied: decorator>=4.3.0 in c:\\users\\tomas\\appdata\\roaming\\python\\python312\\site-packages (from librosa->noisereduce) (5.1.1)\n",
      "Requirement already satisfied: numba>=0.51.0 in c:\\users\\tomas\\appdata\\local\\programs\\python\\python312\\lib\\site-packages (from librosa->noisereduce) (0.59.1)\n",
      "Requirement already satisfied: pooch>=1.1 in c:\\users\\tomas\\appdata\\local\\programs\\python\\python312\\lib\\site-packages (from librosa->noisereduce) (1.8.1)\n",
      "Requirement already satisfied: soxr>=0.3.2 in c:\\users\\tomas\\appdata\\local\\programs\\python\\python312\\lib\\site-packages (from librosa->noisereduce) (0.3.7)\n",
      "Requirement already satisfied: lazy-loader>=0.1 in c:\\users\\tomas\\appdata\\local\\programs\\python\\python312\\lib\\site-packages (from librosa->noisereduce) (0.4)\n",
      "Requirement already satisfied: msgpack>=1.0 in c:\\users\\tomas\\appdata\\local\\programs\\python\\python312\\lib\\site-packages (from librosa->noisereduce) (1.0.8)\n",
      "Requirement already satisfied: contourpy>=1.0.1 in c:\\users\\tomas\\appdata\\local\\programs\\python\\python312\\lib\\site-packages (from matplotlib->noisereduce) (1.1.1)\n",
      "Requirement already satisfied: cycler>=0.10 in c:\\users\\tomas\\appdata\\local\\programs\\python\\python312\\lib\\site-packages (from matplotlib->noisereduce) (0.12.1)\n",
      "Requirement already satisfied: fonttools>=4.22.0 in c:\\users\\tomas\\appdata\\local\\programs\\python\\python312\\lib\\site-packages (from matplotlib->noisereduce) (4.43.1)\n",
      "Requirement already satisfied: kiwisolver>=1.0.1 in c:\\users\\tomas\\appdata\\local\\programs\\python\\python312\\lib\\site-packages (from matplotlib->noisereduce) (1.4.5)\n",
      "Requirement already satisfied: pillow>=6.2.0 in c:\\users\\tomas\\appdata\\local\\programs\\python\\python312\\lib\\site-packages (from matplotlib->noisereduce) (10.1.0)\n",
      "Requirement already satisfied: pyparsing>=2.3.1 in c:\\users\\tomas\\appdata\\local\\programs\\python\\python312\\lib\\site-packages (from matplotlib->noisereduce) (3.1.1)\n",
      "Requirement already satisfied: python-dateutil>=2.7 in c:\\users\\tomas\\appdata\\roaming\\python\\python312\\site-packages (from matplotlib->noisereduce) (2.8.2)\n",
      "Requirement already satisfied: charset-normalizer<4,>=2 in c:\\users\\tomas\\appdata\\local\\programs\\python\\python312\\lib\\site-packages (from requests->transformers) (3.3.2)\n",
      "Requirement already satisfied: idna<4,>=2.5 in c:\\users\\tomas\\appdata\\local\\programs\\python\\python312\\lib\\site-packages (from requests->transformers) (3.6)\n",
      "Requirement already satisfied: urllib3<3,>=1.21.1 in c:\\users\\tomas\\appdata\\local\\programs\\python\\python312\\lib\\site-packages (from requests->transformers) (1.26.18)\n",
      "Requirement already satisfied: certifi>=2017.4.17 in c:\\users\\tomas\\appdata\\local\\programs\\python\\python312\\lib\\site-packages (from requests->transformers) (2024.2.2)\n",
      "Requirement already satisfied: mpmath>=0.19 in c:\\users\\tomas\\appdata\\local\\programs\\python\\python312\\lib\\site-packages (from sympy->torch) (1.3.0)\n",
      "Requirement already satisfied: llvmlite<0.43,>=0.42.0dev0 in c:\\users\\tomas\\appdata\\local\\programs\\python\\python312\\lib\\site-packages (from numba>=0.51.0->librosa->noisereduce) (0.42.0)\n",
      "Requirement already satisfied: platformdirs>=2.5.0 in c:\\users\\tomas\\appdata\\roaming\\python\\python312\\site-packages (from pooch>=1.1->librosa->noisereduce) (3.11.0)\n",
      "Requirement already satisfied: six>=1.5 in c:\\users\\tomas\\appdata\\roaming\\python\\python312\\site-packages (from python-dateutil>=2.7->matplotlib->noisereduce) (1.16.0)\n",
      "Requirement already satisfied: threadpoolctl>=2.0.0 in c:\\users\\tomas\\appdata\\local\\programs\\python\\python312\\lib\\site-packages (from scikit-learn>=0.20.0->librosa->noisereduce) (3.5.0)\n",
      "Note: you may need to restart the kernel to use updated packages.\n"
     ]
    }
   ],
   "source": [
    "%pip install transformers torch torchaudio soundfile noisereduce numpy"
   ]
  },
  {
   "cell_type": "code",
   "execution_count": 49,
   "metadata": {},
   "outputs": [],
   "source": [
    "import torch\n",
    "import noisereduce as nr\n",
    "import soundfile as sf\n",
    "import numpy as np\n",
    "from transformers import Wav2Vec2Processor, Wav2Vec2ForCTC\n"
   ]
  },
  {
   "cell_type": "code",
   "execution_count": 50,
   "metadata": {},
   "outputs": [
    {
     "name": "stderr",
     "output_type": "stream",
     "text": [
      "Some weights of the model checkpoint at facebook/wav2vec2-large-robust-ft-swbd-300h were not used when initializing Wav2Vec2ForCTC: ['wav2vec2.encoder.pos_conv_embed.conv.weight_g', 'wav2vec2.encoder.pos_conv_embed.conv.weight_v']\n",
      "- This IS expected if you are initializing Wav2Vec2ForCTC from the checkpoint of a model trained on another task or with another architecture (e.g. initializing a BertForSequenceClassification model from a BertForPreTraining model).\n",
      "- This IS NOT expected if you are initializing Wav2Vec2ForCTC from the checkpoint of a model that you expect to be exactly identical (initializing a BertForSequenceClassification model from a BertForSequenceClassification model).\n",
      "Some weights of Wav2Vec2ForCTC were not initialized from the model checkpoint at facebook/wav2vec2-large-robust-ft-swbd-300h and are newly initialized: ['wav2vec2.encoder.pos_conv_embed.conv.parametrizations.weight.original0', 'wav2vec2.encoder.pos_conv_embed.conv.parametrizations.weight.original1']\n",
      "You should probably TRAIN this model on a down-stream task to be able to use it for predictions and inference.\n"
     ]
    }
   ],
   "source": [
    "# Load model and processor, this model is fine-tuned to noisy corpus telephone data and trained to be robust\n",
    "\n",
    "processor = Wav2Vec2Processor.from_pretrained(\"facebook/wav2vec2-large-robust-ft-swbd-300h\")\n",
    "model = Wav2Vec2ForCTC.from_pretrained(\"facebook/wav2vec2-large-robust-ft-swbd-300h\")\n"
   ]
  },
  {
   "cell_type": "code",
   "execution_count": 56,
   "metadata": {},
   "outputs": [
    {
     "name": "stdout",
     "output_type": "stream",
     "text": [
      "['HATTING IN FEDA ORT A LI DOTIGAD IS LACK AND BONII UTWEDO DEPLOY IS ANGTY AT ORG']\n"
     ]
    }
   ],
   "source": [
    "# Load an audio file using soundfile\n",
    "audio_path = \"data/audio/audio_3499.wav\"\n",
    "waveform, sample_rate = sf.read(audio_path)\n",
    "\n",
    "# Ensure the audio is in the right format (e.g., mono)\n",
    "if len(waveform.shape) > 1:\n",
    "    waveform = waveform.mean(axis=1)  # Convert to mono by averaging channels\n",
    "\n",
    "# Normalize the audio input to the range [-1.0, 1.0]\n",
    "waveform = waveform / np.max(np.abs(waveform))\n",
    "\n",
    "# Apply noise reduction\n",
    "waveform_denoised = nr.reduce_noise(y=waveform, sr=sample_rate)\n",
    "\n",
    "# Convert to tensor and ensure it has shape [batch_size, sequence_length]\n",
    "waveform_denoised = torch.tensor(waveform_denoised, dtype=torch.float32).unsqueeze(0)\n",
    "\n",
    "# Tokenize the audio input\n",
    "input_values = processor(waveform_denoised, sampling_rate=sample_rate, return_tensors=\"pt\", padding=True).input_values\n",
    "\n",
    "# Ensure the shape of input_values is [batch_size, sequence_length]\n",
    "input_values = input_values.squeeze(1)  # Remove unnecessary dimensions if needed\n",
    "\n",
    "# Retrieve logits\n",
    "with torch.no_grad():\n",
    "    logits = model(input_values).logits\n",
    "\n",
    "# Take argmax and decode\n",
    "predicted_ids = torch.argmax(logits, dim=-1)\n",
    "transcription = processor.batch_decode(predicted_ids)\n",
    "\n",
    "# Print the transcription\n",
    "print(transcription)"
   ]
  },
  {
   "cell_type": "code",
   "execution_count": 57,
   "metadata": {},
   "outputs": [
    {
     "name": "stdout",
     "output_type": "stream",
     "text": [
      "['HEDING IS SEA FORTFA  DATIGA IS BLACK AND GONLAI  C ELOY IS ATY AT RD']\n"
     ]
    }
   ],
   "source": [
    "# Load an audio file using soundfile\n",
    "audio_path = \"data/audio/audio_3499.wav\"\n",
    "audio_input, sample_rate = sf.read(audio_path)\n",
    "audio_input = torch.tensor(audio_input).unsqueeze(0)  # Convert to tensor and add batch dimension\n",
    "\n",
    "# Process the audio input\n",
    "inputs = processor(audio_input.squeeze(), sampling_rate=sample_rate, return_tensors=\"pt\", padding=True)\n",
    "\n",
    "# Perform ASR\n",
    "with torch.no_grad():\n",
    "    logits = model(inputs.input_values).logits\n",
    "\n",
    "# Decode the output\n",
    "predicted_ids = torch.argmax(logits, dim=-1)\n",
    "transcription = processor.batch_decode(predicted_ids)\n",
    "print(transcription)"
   ]
  },
  {
   "cell_type": "code",
   "execution_count": null,
   "metadata": {},
   "outputs": [],
   "source": []
  }
 ],
 "metadata": {
  "kernelspec": {
   "display_name": "Python 3",
   "language": "python",
   "name": "python3"
  },
  "language_info": {
   "codemirror_mode": {
    "name": "ipython",
    "version": 3
   },
   "file_extension": ".py",
   "mimetype": "text/x-python",
   "name": "python",
   "nbconvert_exporter": "python",
   "pygments_lexer": "ipython3",
   "version": "3.12.0"
  }
 },
 "nbformat": 4,
 "nbformat_minor": 2
}
